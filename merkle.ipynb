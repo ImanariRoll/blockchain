{
 "cells": [
  {
   "cell_type": "markdown",
   "metadata": {},
   "source": [
    "# Implementing Merkle Trees\n",
    "\n",
    "paper: https://bitcoin.org/bitcoin.pdf"
   ]
  },
  {
   "cell_type": "code",
   "execution_count": 2,
   "metadata": {},
   "outputs": [],
   "source": [
    "# TODO\n",
    "\n",
    "# fix merkle tree [DONE]\n",
    "\n",
    "# write inclusion proof [NEXT]\n",
    "# write Block (prev hash, nonce, merkle tree, in class)\n",
    "# Blockchain (linked list of blocks)\n",
    "# DONE WITH STATIC COMPONENTS\n",
    "\n",
    "# WRITE Nodes\n",
    "# use flask\n",
    "# write clients\n",
    "\n",
    "# write simulation"
   ]
  },
  {
   "cell_type": "code",
   "execution_count": 20,
   "metadata": {
    "scrolled": true
   },
   "outputs": [],
   "source": [
    "from hashlib import sha1\n",
    "\n",
    "# hash helper function\n",
    "def h(s): return sha1(s.encode()).hexdigest()"
   ]
  },
  {
   "cell_type": "code",
   "execution_count": 4,
   "metadata": {},
   "outputs": [],
   "source": [
    "block1 = 'foo'\n",
    "block2 = 'bar'"
   ]
  },
  {
   "cell_type": "code",
   "execution_count": 5,
   "metadata": {},
   "outputs": [],
   "source": [
    "digest1 = h(block1)\n",
    "digest2 = h(block2)"
   ]
  },
  {
   "cell_type": "code",
   "execution_count": 6,
   "metadata": {},
   "outputs": [],
   "source": [
    "root = h(digest1 + digest2)"
   ]
  },
  {
   "cell_type": "code",
   "execution_count": 7,
   "metadata": {},
   "outputs": [
    {
     "data": {
      "text/plain": [
       "('0beec7b5ea3f0fdbc95d0dd47f3c5bc275da8a33',\n",
       " '62cdb7020ff920e5aa642c3d4066950dd1f01f4d',\n",
       " '3eb4e0e693987b4bcb871a44e943b7223b5dd2e5')"
      ]
     },
     "execution_count": 7,
     "metadata": {},
     "output_type": "execute_result"
    }
   ],
   "source": [
    "digest1, digest2, root"
   ]
  },
  {
   "cell_type": "code",
   "execution_count": null,
   "metadata": {},
   "outputs": [],
   "source": []
  },
  {
   "cell_type": "code",
   "execution_count": 48,
   "metadata": {},
   "outputs": [],
   "source": [
    "## Merkle Treeeeee\n",
    "\n",
    "# input: list of transaction strings\n",
    "# output: MerkleNode (root of tree)"
   ]
  },
  {
   "cell_type": "code",
   "execution_count": 77,
   "metadata": {},
   "outputs": [],
   "source": [
    "class MerkleNode:\n",
    "    def __init__(self, data=None, parent=None, left=None, right=None):\n",
    "        self.data = h(data) if data is not None else None\n",
    "        self.parent = parent\n",
    "        self.left = left\n",
    "        self.right = right"
   ]
  },
  {
   "cell_type": "code",
   "execution_count": 78,
   "metadata": {},
   "outputs": [],
   "source": [
    "class MerkleTree:\n",
    "    def __init__(self, transactions):\n",
    "        self.transactions = transactions\n",
    "        self.root = self.createTree(transactions)\n",
    "        \n",
    "    def createTree(self, txs, parent=None):\n",
    "        # returns a MerkleNode or None\n",
    "        if len(txs) == 0:\n",
    "            return None\n",
    "        elif len(txs) == 1:\n",
    "            return MerkleNode(txs[0], None, None, None)\n",
    "        else:\n",
    "\n",
    "            left_txs = txs[:(len(txs)+1)//2]\n",
    "            right_txs = txs[(len(txs)+1)//2:]\n",
    "            \n",
    "            if len(txs) % 2 == 1:\n",
    "                right_txs = right_txs + [right_txs[-1]]\n",
    "                \n",
    "            new_node = MerkleNode()\n",
    "            left = self.createTree(left_txs, new_node)\n",
    "            right = self.createTree(right_txs, new_node)\n",
    "            new_node.data = h(left.data + right.data)\n",
    "            new_node.left = left\n",
    "            new_node.right = right\n",
    "            new_node.parent = parent\n",
    "            return new_node\n",
    "                "
   ]
  },
  {
   "cell_type": "code",
   "execution_count": null,
   "metadata": {},
   "outputs": [],
   "source": [
    "def treeView(tree):\n",
    "    if tree is None:\n",
    "        pass\n",
    "    else:\n",
    "        print(tree.data)\n",
    "        treeView(tree.left)\n",
    "        treeView(tree.right)\n",
    "        "
   ]
  },
  {
   "cell_type": "code",
   "execution_count": 112,
   "metadata": {},
   "outputs": [],
   "source": [
    "def listView(treeList):\n",
    "    for node in treeList:\n",
    "        print(node.data)"
   ]
  },
  {
   "cell_type": "code",
   "execution_count": 108,
   "metadata": {},
   "outputs": [],
   "source": [
    "# returns a list of all nodes in a tree in pre-order!\n",
    "def treeToList(node):\n",
    "    treeList = []\n",
    "    if node is not None:\n",
    "        treeList.append(node)\n",
    "        treeList = treeList + treeToList(node.left)\n",
    "        treeList = treeList + treeToList(node.right)     \n",
    "        \n",
    "    return treeList"
   ]
  },
  {
   "cell_type": "code",
   "execution_count": null,
   "metadata": {},
   "outputs": [],
   "source": []
  },
  {
   "cell_type": "code",
   "execution_count": 90,
   "metadata": {},
   "outputs": [],
   "source": [
    "test = MerkleNode('test')"
   ]
  },
  {
   "cell_type": "code",
   "execution_count": 91,
   "metadata": {},
   "outputs": [
    {
     "data": {
      "text/plain": [
       "'a94a8fe5ccb19ba61c4c0873d391e987982fbbd3'"
      ]
     },
     "execution_count": 91,
     "metadata": {},
     "output_type": "execute_result"
    }
   ],
   "source": [
    "test.data"
   ]
  },
  {
   "cell_type": "code",
   "execution_count": 92,
   "metadata": {},
   "outputs": [],
   "source": [
    "# these transaction lists should yield the same merkle tree.\n",
    "# because len(txs1) is odd, we append the last transaction to the list,\n",
    "# resulting in txs2.\n",
    "txs1 = ['asdgasdfasdf', 'asdfasdfasdfasdfasdf', 'asdf']\n",
    "txs2 = ['asdgasdfasdf', 'asdfasdfasdfasdfasdf', 'asdf', 'asdf']"
   ]
  },
  {
   "cell_type": "code",
   "execution_count": 93,
   "metadata": {},
   "outputs": [],
   "source": [
    "tree1 = MerkleTree(txs1)\n",
    "tree2 = MerkleTree(txs2)"
   ]
  },
  {
   "cell_type": "code",
   "execution_count": 94,
   "metadata": {},
   "outputs": [
    {
     "name": "stdout",
     "output_type": "stream",
     "text": [
      "295502aff41a526d71b8b3030366b29b6642c34d\n",
      "a7e3aee44ea79285095b4706a152173419598071\n",
      "ae53deca0f61d952131d7dfedda715497eaab30a\n",
      "950248b9e8b0dd41938018a871a13dd92bed4614\n",
      "582f749b2e892da82d8b1029d2e51078f35cbf57\n",
      "3da541559918a808c2402bba5012f6c60b27661c\n",
      "3da541559918a808c2402bba5012f6c60b27661c\n",
      "\n",
      "295502aff41a526d71b8b3030366b29b6642c34d\n",
      "a7e3aee44ea79285095b4706a152173419598071\n",
      "ae53deca0f61d952131d7dfedda715497eaab30a\n",
      "950248b9e8b0dd41938018a871a13dd92bed4614\n",
      "582f749b2e892da82d8b1029d2e51078f35cbf57\n",
      "3da541559918a808c2402bba5012f6c60b27661c\n",
      "3da541559918a808c2402bba5012f6c60b27661c\n"
     ]
    }
   ],
   "source": [
    "# these should be the same.\n",
    "treeView(tree1.root)\n",
    "print()\n",
    "treeView(tree2.root)"
   ]
  },
  {
   "cell_type": "code",
   "execution_count": 109,
   "metadata": {},
   "outputs": [],
   "source": [
    "foo = treeToList(tree1.root)"
   ]
  },
  {
   "cell_type": "code",
   "execution_count": 110,
   "metadata": {},
   "outputs": [
    {
     "name": "stdout",
     "output_type": "stream",
     "text": [
      "295502aff41a526d71b8b3030366b29b6642c34d\n",
      "a7e3aee44ea79285095b4706a152173419598071\n",
      "ae53deca0f61d952131d7dfedda715497eaab30a\n",
      "950248b9e8b0dd41938018a871a13dd92bed4614\n",
      "582f749b2e892da82d8b1029d2e51078f35cbf57\n",
      "3da541559918a808c2402bba5012f6c60b27661c\n",
      "3da541559918a808c2402bba5012f6c60b27661c\n"
     ]
    }
   ],
   "source": [
    "for i in range(len(foo)):\n",
    "    print(foo[i].data)"
   ]
  },
  {
   "cell_type": "code",
   "execution_count": 113,
   "metadata": {},
   "outputs": [
    {
     "name": "stdout",
     "output_type": "stream",
     "text": [
      "295502aff41a526d71b8b3030366b29b6642c34d\n",
      "a7e3aee44ea79285095b4706a152173419598071\n",
      "ae53deca0f61d952131d7dfedda715497eaab30a\n",
      "950248b9e8b0dd41938018a871a13dd92bed4614\n",
      "582f749b2e892da82d8b1029d2e51078f35cbf57\n",
      "3da541559918a808c2402bba5012f6c60b27661c\n",
      "3da541559918a808c2402bba5012f6c60b27661c\n"
     ]
    }
   ],
   "source": [
    "listView(foo)"
   ]
  },
  {
   "cell_type": "code",
   "execution_count": null,
   "metadata": {},
   "outputs": [],
   "source": []
  }
 ],
 "metadata": {
  "kernelspec": {
   "display_name": "Python 3",
   "language": "python",
   "name": "python3"
  },
  "language_info": {
   "codemirror_mode": {
    "name": "ipython",
    "version": 3
   },
   "file_extension": ".py",
   "mimetype": "text/x-python",
   "name": "python",
   "nbconvert_exporter": "python",
   "pygments_lexer": "ipython3",
   "version": "3.8.6"
  }
 },
 "nbformat": 4,
 "nbformat_minor": 4
}
